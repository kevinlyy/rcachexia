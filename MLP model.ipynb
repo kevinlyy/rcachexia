{
 "cells": [
  {
   "cell_type": "code",
   "execution_count": null,
   "id": "feb52263",
   "metadata": {},
   "outputs": [],
   "source": [
    "# Read cured dataset\n",
    "import pandas as pd\n",
    "import numpy as np\n",
    "raw_data = pd.read_excel(r'F:\\\\Desktop\\\\dataset.xlsx')\n",
    "raw_data.head(3)"
   ]
  },
  {
   "cell_type": "code",
   "execution_count": null,
   "id": "35f61b25",
   "metadata": {},
   "outputs": [],
   "source": [
    "# Data partition\n",
    "from sklearn.model_selection import train_test_split\n",
    "train_data, test_data = train_test_split(raw_data, test_size = 0.3, random_state = 7)"
   ]
  },
  {
   "cell_type": "code",
   "execution_count": null,
   "id": "42d82450",
   "metadata": {},
   "outputs": [],
   "source": [
    "X_train = train_data['wc.six.one','wc.one.now','bmi']\n",
    "y_train = train_data['cachexia']\n",
    "X_test =  test_data['wc.six.one','wc.one.now','bmi']\n",
    "y_test = test_data['cachexia']"
   ]
  },
  {
   "cell_type": "code",
   "execution_count": null,
   "id": "c8cd24f1",
   "metadata": {},
   "outputs": [],
   "source": [
    "# Model training\n",
    "import matplotlib.pyplot as plt\n",
    "import matplotlib.pyplot as plt\n",
    "from sklearn.neural_network import MLPClassifier\n",
    "clf = MLPClassifier(activation='relu', alpha=0.0001, batch_size='auto', beta_1=0.9,beta_2=0.999, \n",
    "                    early_stopping=False, epsilon=1e-08,hidden_layer_sizes=(100,), \n",
    "                    learning_rate='constant',learning_rate_init=0.001, \n",
    "                    max_fun=15000, max_iter=500,momentum=0.9, n_iter_no_change=10,\n",
    "                    nesterovs_momentum=True,power_t=0.5, random_state=123, shuffle=True, solver='adam',\n",
    "                    tol=0.0001, validation_fraction=0.1, verbose=False,warm_start=False)\n",
    "clf.fit(X_train,y_train)\n",
    "predictions = clf.predict(X_test)"
   ]
  }
 ],
 "metadata": {
  "kernelspec": {
   "display_name": "Python 3",
   "language": "python",
   "name": "python3"
  },
  "language_info": {
   "codemirror_mode": {
    "name": "ipython",
    "version": 3
   },
   "file_extension": ".py",
   "mimetype": "text/x-python",
   "name": "python",
   "nbconvert_exporter": "python",
   "pygments_lexer": "ipython3",
   "version": "3.7.6"
  }
 },
 "nbformat": 4,
 "nbformat_minor": 5
}
